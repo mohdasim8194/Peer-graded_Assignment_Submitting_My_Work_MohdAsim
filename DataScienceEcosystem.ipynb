{
  "metadata": {
    "kernelspec": {
      "name": "python",
      "display_name": "Python (Pyodide)",
      "language": "python"
    },
    "language_info": {
      "codemirror_mode": {
        "name": "python",
        "version": 3
      },
      "file_extension": ".py",
      "mimetype": "text/x-python",
      "name": "python",
      "nbconvert_exporter": "python",
      "pygments_lexer": "ipython3",
      "version": "3.8"
    }
  },
  "nbformat_minor": 4,
  "nbformat": 4,
  "cells": [
    {
      "cell_type": "markdown",
      "source": "#### Exercise 2 - Create a markdown cell with the title of the notebook. (1 pt)\n# Data Science Tools and Ecosystem|",
      "metadata": {}
    },
    {
      "cell_type": "markdown",
      "source": "#### Exercise 3 - Create a markdown cell for an introduction\n### In this notebook, Data Science Tools and Ecosystem are summarized.",
      "metadata": {}
    },
    {
      "cell_type": "markdown",
      "source": "#### Exercise 10 - Insert a markdown cell to list Objectives\n**Objectives:**\n\n- List popular languages for Data Science  \n- Identify commonly used libraries by Data Scientists  \n- Create and format tables using Markdown  \n- Use arithmetic expressions in Python code cells  \n- Understand open-source tools used in Data Science development environments  \n",
      "metadata": {}
    },
    {
      "cell_type": "markdown",
      "source": "#### Exercise 4 - Create a markdown cell to list data science languages\n### <b>Some of the popular languages that Data Scientists use are:</b>\n<ol>\n  <li>Python</li>\n  <li>R</li>\n  <li>SQL</li>\n  <li>Java</li>\n  <li>Julia</li>\n  <li>Scala</li>\n  <li>C/C++</li>\n  <li>JavaScript</li>\n</ol>",
      "metadata": {}
    },
    {
      "cell_type": "markdown",
      "source": "#### Exercise 5 - Create a markdown cell to list data science libraries\n### Some of the commonly used libraries used by Data Scientists include:\n<ol>\n  <li>TensorFlow</li>\n  <li>NumPy</li>\n  <li>SciPy</li>\n  <li>Pandas</li>\n  <li>Matplotlib</li>\n  <li>Keras</li>\n  <li>SciKit-Learn</li>\n  <li>PyTorch</li>\n  <li>Scrapy</li>\n  <li>BeautifulSoup</li>\n  <li>LightGBM</li>\n  <li>ELI5</li>\n  <li>Theano</li>\n  <li>NuPIC</li>\n  <li>Ramp</li>\n  <li>Pipenv</li>\n  <li>Bob</li>\n  <li>PyBrain</li>\n  <li>Caffe2</li>\n  <li>Chainer</li>\n</ol>\n",
      "metadata": {}
    },
    {
      "cell_type": "markdown",
      "source": "#### Exercise 6 - Create a markdown cell with a table of Data Science tools\n**Data Science Tools:**\n\n| Data Science Tools |\n|--------------------|\n| SAS. It is one of those data science tools which are specifically designed for statistical operation |\n| Apache Spark       |\n| BigML              |\n",
      "metadata": {}
    },
    {
      "cell_type": "markdown",
      "source": "#### Exercise 7 - Create a markdown cell introducing arithmetic expression examples\n### Below are a few examples of evaluating arithmetic expressions in Python",
      "metadata": {}
    },
    {
      "cell_type": "code",
      "source": "# Exercise 8 - Create a code cell to multiply and add numbers\n# This is a simple arithmetic expression to multiply then add integers\n(3*4)+5 ",
      "metadata": {
        "trusted": true
      },
      "outputs": [],
      "execution_count": null
    },
    {
      "cell_type": "code",
      "source": "#### Exercise 9 - Create a code cell to convert minutes to hours\n# This will convert 200 minutes to hours by diving by 60.\ndays = 0\nhours = 0\nmins = 0\n\ntime = 200\n#days = time / 1440\nleftover_minutes = time % 1440\nhours = leftover_minutes / 60\n#mins = time - (days*1440) - (hours*60)\nprint(str(days) + \" days, \" + str(hours) + \" hours, \" + str(mins) +  \" mins. \")\n",
      "metadata": {
        "trusted": true
      },
      "outputs": [],
      "execution_count": null
    },
    {
      "cell_type": "markdown",
      "source": "#### Exercise 11 - Create a markdown cell to indicate the Author's name\n## Author\nMohd Asim",
      "metadata": {}
    },
    {
      "cell_type": "code",
      "source": "",
      "metadata": {
        "trusted": true
      },
      "outputs": [],
      "execution_count": null
    }
  ]
}